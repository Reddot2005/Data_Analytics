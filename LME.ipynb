{
 "cells": [
  {
   "cell_type": "code",
   "execution_count": 122,
   "id": "c9ea63c7",
   "metadata": {},
   "outputs": [],
   "source": [
    "import numpy as np\n",
    "import matplotlib.pyplot as plt\n",
    "import statsmodels.api as sms\n",
    "import pandas as pd\n",
    "from statsmodels.tsa.stattools import adfuller\n",
    "from statsmodels.graphics.tsaplots import plot_acf,plot_pacf\n",
    "from statsmodels.tsa.statespace.sarimax import SARIMAX\n",
    "from sklearn.metrics import mean_absolute_error, mean_squared_error\n",
    "from pandas.tseries.offsets import DateOffset"
   ]
  },
  {
   "cell_type": "code",
   "execution_count": 152,
   "id": "63c3d01a",
   "metadata": {},
   "outputs": [],
   "source": [
    "df=pd.read_excel('Combined_Jan_to_Apr_2025_Molybdenum.xlsx')"
   ]
  },
  {
   "cell_type": "code",
   "execution_count": 153,
   "id": "f5174bac",
   "metadata": {},
   "outputs": [
    {
     "data": {
      "text/html": [
       "<div>\n",
       "<style scoped>\n",
       "    .dataframe tbody tr th:only-of-type {\n",
       "        vertical-align: middle;\n",
       "    }\n",
       "\n",
       "    .dataframe tbody tr th {\n",
       "        vertical-align: top;\n",
       "    }\n",
       "\n",
       "    .dataframe thead th {\n",
       "        text-align: right;\n",
       "    }\n",
       "</style>\n",
       "<table border=\"1\" class=\"dataframe\">\n",
       "  <thead>\n",
       "    <tr style=\"text-align: right;\">\n",
       "      <th></th>\n",
       "      <th>Date</th>\n",
       "      <th>BUYER</th>\n",
       "      <th>SELLER</th>\n",
       "      <th>Mean</th>\n",
       "    </tr>\n",
       "  </thead>\n",
       "  <tbody>\n",
       "    <tr>\n",
       "      <th>0</th>\n",
       "      <td>2025-01-02</td>\n",
       "      <td>8685.0</td>\n",
       "      <td>8685.5</td>\n",
       "      <td>8685.25</td>\n",
       "    </tr>\n",
       "    <tr>\n",
       "      <th>1</th>\n",
       "      <td>2025-01-03</td>\n",
       "      <td>8700.5</td>\n",
       "      <td>8701.0</td>\n",
       "      <td>8700.75</td>\n",
       "    </tr>\n",
       "    <tr>\n",
       "      <th>2</th>\n",
       "      <td>2025-01-06</td>\n",
       "      <td>8893.0</td>\n",
       "      <td>8893.5</td>\n",
       "      <td>8893.25</td>\n",
       "    </tr>\n",
       "    <tr>\n",
       "      <th>3</th>\n",
       "      <td>2025-01-07</td>\n",
       "      <td>8885.5</td>\n",
       "      <td>8886.0</td>\n",
       "      <td>8885.75</td>\n",
       "    </tr>\n",
       "    <tr>\n",
       "      <th>4</th>\n",
       "      <td>2025-01-08</td>\n",
       "      <td>8846.5</td>\n",
       "      <td>8847.0</td>\n",
       "      <td>8846.75</td>\n",
       "    </tr>\n",
       "    <tr>\n",
       "      <th>...</th>\n",
       "      <td>...</td>\n",
       "      <td>...</td>\n",
       "      <td>...</td>\n",
       "      <td>...</td>\n",
       "    </tr>\n",
       "    <tr>\n",
       "      <th>78</th>\n",
       "      <td>2025-04-24</td>\n",
       "      <td>9410.0</td>\n",
       "      <td>9410.5</td>\n",
       "      <td>9410.25</td>\n",
       "    </tr>\n",
       "    <tr>\n",
       "      <th>79</th>\n",
       "      <td>2025-04-25</td>\n",
       "      <td>9363.5</td>\n",
       "      <td>9364.0</td>\n",
       "      <td>9363.75</td>\n",
       "    </tr>\n",
       "    <tr>\n",
       "      <th>80</th>\n",
       "      <td>2025-04-28</td>\n",
       "      <td>9365.0</td>\n",
       "      <td>9365.5</td>\n",
       "      <td>9365.25</td>\n",
       "    </tr>\n",
       "    <tr>\n",
       "      <th>81</th>\n",
       "      <td>2025-04-29</td>\n",
       "      <td>9486.5</td>\n",
       "      <td>9487.5</td>\n",
       "      <td>9487.00</td>\n",
       "    </tr>\n",
       "    <tr>\n",
       "      <th>82</th>\n",
       "      <td>2025-04-30</td>\n",
       "      <td>9203.0</td>\n",
       "      <td>9204.0</td>\n",
       "      <td>9203.50</td>\n",
       "    </tr>\n",
       "  </tbody>\n",
       "</table>\n",
       "<p>83 rows × 4 columns</p>\n",
       "</div>"
      ],
      "text/plain": [
       "         Date   BUYER  SELLER     Mean\n",
       "0  2025-01-02  8685.0  8685.5  8685.25\n",
       "1  2025-01-03  8700.5  8701.0  8700.75\n",
       "2  2025-01-06  8893.0  8893.5  8893.25\n",
       "3  2025-01-07  8885.5  8886.0  8885.75\n",
       "4  2025-01-08  8846.5  8847.0  8846.75\n",
       "..        ...     ...     ...      ...\n",
       "78 2025-04-24  9410.0  9410.5  9410.25\n",
       "79 2025-04-25  9363.5  9364.0  9363.75\n",
       "80 2025-04-28  9365.0  9365.5  9365.25\n",
       "81 2025-04-29  9486.5  9487.5  9487.00\n",
       "82 2025-04-30  9203.0  9204.0  9203.50\n",
       "\n",
       "[83 rows x 4 columns]"
      ]
     },
     "execution_count": 153,
     "metadata": {},
     "output_type": "execute_result"
    }
   ],
   "source": [
    "df"
   ]
  },
  {
   "cell_type": "code",
   "execution_count": 154,
   "id": "42daa8bf",
   "metadata": {},
   "outputs": [
    {
     "name": "stdout",
     "output_type": "stream",
     "text": [
      "<class 'pandas.core.frame.DataFrame'>\n",
      "RangeIndex: 83 entries, 0 to 82\n",
      "Data columns (total 4 columns):\n",
      " #   Column  Non-Null Count  Dtype         \n",
      "---  ------  --------------  -----         \n",
      " 0   Date    83 non-null     datetime64[ns]\n",
      " 1   BUYER   83 non-null     float64       \n",
      " 2   SELLER  83 non-null     float64       \n",
      " 3   Mean    83 non-null     float64       \n",
      "dtypes: datetime64[ns](1), float64(3)\n",
      "memory usage: 2.7 KB\n"
     ]
    }
   ],
   "source": [
    "df.info()"
   ]
  },
  {
   "cell_type": "code",
   "execution_count": 155,
   "id": "64e15b7a",
   "metadata": {},
   "outputs": [],
   "source": [
    "df=df.set_index('Date')"
   ]
  },
  {
   "cell_type": "code",
   "execution_count": 156,
   "id": "db3322b5",
   "metadata": {},
   "outputs": [
    {
     "data": {
      "text/plain": [
       "<AxesSubplot:xlabel='Date'>"
      ]
     },
     "execution_count": 156,
     "metadata": {},
     "output_type": "execute_result"
    },
    {
     "data": {
      "image/png": "[encoded data removed]",
      "text/plain": [
       "<Figure size 432x288 with 1 Axes>"
      ]
     },
     "metadata": {
      "needs_background": "light"
     },
     "output_type": "display_data"
    }
   ],
   "source": [
    "df.plot()"
   ]
  },
  {
   "cell_type": "code",
   "execution_count": 157,
   "id": "fd71d536",
   "metadata": {},
   "outputs": [],
   "source": [
    "    def ad_test(series):\n",
    "        result=adfuller(series)\n",
    "        print('ADF stat:{}'.format(result[0]))\n",
    "        print('p-value:{}'.format(result[1]))\n",
    "        if result[1]<=0.05:\n",
    "            print(\"strong against null hypothesis,reject,stationary\")\n",
    "        else:\n",
    "            print('Weak against null hypothesis,accepted,non stationary')"
   ]
  },
  {
   "cell_type": "code",
   "execution_count": 158,
   "id": "ee120cf6",
   "metadata": {},
   "outputs": [
    {
     "name": "stdout",
     "output_type": "stream",
     "text": [
      "ADF stat:-2.3599532963426015\n",
      "p-value:0.15335966330696854\n",
      "Weak against null hypothesis,accepted,non stationary\n"
     ]
    }
   ],
   "source": [
    "ad_test(df['Mean'])"
   ]
  },
  {
   "cell_type": "code",
   "execution_count": 159,
   "id": "6eaaeb58",
   "metadata": {},
   "outputs": [],
   "source": [
    "df['First_diff']=df['Mean']-df['Mean'].shift(1)"
   ]
  },
  {
   "cell_type": "code",
   "execution_count": 160,
   "id": "f61c9d9a",
   "metadata": {},
   "outputs": [
    {
     "data": {
      "text/html": [
       "<div>\n",
       "<style scoped>\n",
       "    .dataframe tbody tr th:only-of-type {\n",
       "        vertical-align: middle;\n",
       "    }\n",
       "\n",
       "    .dataframe tbody tr th {\n",
       "        vertical-align: top;\n",
       "    }\n",
       "\n",
       "    .dataframe thead th {\n",
       "        text-align: right;\n",
       "    }\n",
       "</style>\n",
       "<table border=\"1\" class=\"dataframe\">\n",
       "  <thead>\n",
       "    <tr style=\"text-align: right;\">\n",
       "      <th></th>\n",
       "      <th>BUYER</th>\n",
       "      <th>SELLER</th>\n",
       "      <th>Mean</th>\n",
       "      <th>First_diff</th>\n",
       "    </tr>\n",
       "    <tr>\n",
       "      <th>Date</th>\n",
       "      <th></th>\n",
       "      <th></th>\n",
       "      <th></th>\n",
       "      <th></th>\n",
       "    </tr>\n",
       "  </thead>\n",
       "  <tbody>\n",
       "    <tr>\n",
       "      <th>2025-01-02</th>\n",
       "      <td>8685.0</td>\n",
       "      <td>8685.5</td>\n",
       "      <td>8685.25</td>\n",
       "      <td>NaN</td>\n",
       "    </tr>\n",
       "    <tr>\n",
       "      <th>2025-01-03</th>\n",
       "      <td>8700.5</td>\n",
       "      <td>8701.0</td>\n",
       "      <td>8700.75</td>\n",
       "      <td>15.5</td>\n",
       "    </tr>\n",
       "    <tr>\n",
       "      <th>2025-01-06</th>\n",
       "      <td>8893.0</td>\n",
       "      <td>8893.5</td>\n",
       "      <td>8893.25</td>\n",
       "      <td>192.5</td>\n",
       "    </tr>\n",
       "    <tr>\n",
       "      <th>2025-01-07</th>\n",
       "      <td>8885.5</td>\n",
       "      <td>8886.0</td>\n",
       "      <td>8885.75</td>\n",
       "      <td>-7.5</td>\n",
       "    </tr>\n",
       "    <tr>\n",
       "      <th>2025-01-08</th>\n",
       "      <td>8846.5</td>\n",
       "      <td>8847.0</td>\n",
       "      <td>8846.75</td>\n",
       "      <td>-39.0</td>\n",
       "    </tr>\n",
       "  </tbody>\n",
       "</table>\n",
       "</div>"
      ],
      "text/plain": [
       "             BUYER  SELLER     Mean  First_diff\n",
       "Date                                           \n",
       "2025-01-02  8685.0  8685.5  8685.25         NaN\n",
       "2025-01-03  8700.5  8701.0  8700.75        15.5\n",
       "2025-01-06  8893.0  8893.5  8893.25       192.5\n",
       "2025-01-07  8885.5  8886.0  8885.75        -7.5\n",
       "2025-01-08  8846.5  8847.0  8846.75       -39.0"
      ]
     },
     "execution_count": 160,
     "metadata": {},
     "output_type": "execute_result"
    }
   ],
   "source": [
    "df.head()"
   ]
  },
  {
   "cell_type": "code",
   "execution_count": 161,
   "id": "377a9ef5",
   "metadata": {},
   "outputs": [
    {
     "name": "stdout",
     "output_type": "stream",
     "text": [
      "ADF stat:-8.81209079365\n",
      "p-value:1.978728880416908e-14\n",
      "strong against null hypothesis,reject,stationary\n"
     ]
    }
   ],
   "source": [
    "ad_test(df['First_diff'].dropna())"
   ]
  },
  {
   "cell_type": "code",
   "execution_count": 162,
   "id": "bbb1753f",
   "metadata": {},
   "outputs": [
    {
     "data": {
      "text/plain": [
       "<AxesSubplot:xlabel='Date'>"
      ]
     },
     "execution_count": 162,
     "metadata": {},
     "output_type": "execute_result"
    },
    {
     "data": {
      "image/png": "[encoded data removed]",
      "text/plain": [
       "<Figure size 1080x576 with 1 Axes>"
      ]
     },
     "metadata": {
      "needs_background": "light"
     },
     "output_type": "display_data"
    }
   ],
   "source": [
    "df['First_diff'].plot(figsize=(15,8))"
   ]
  },
  {
   "cell_type": "code",
   "execution_count": 163,
   "id": "5084b19a",
   "metadata": {},
   "outputs": [
    {
     "data": {
      "image/png": "[encoded data removed]",
      "text/plain": [
       "<Figure size 432x288 with 1 Axes>"
      ]
     },
     "metadata": {
      "needs_background": "light"
     },
     "output_type": "display_data"
    }
   ],
   "source": [
    "acf=plot_acf(df['First_diff'].dropna())"
   ]
  },
  {
   "cell_type": "code",
   "execution_count": 164,
   "id": "7030a45e",
   "metadata": {},
   "outputs": [
    {
     "name": "stderr",
     "output_type": "stream",
     "text": [
      "C:\\ProgramData\\Anaconda3\\lib\\site-packages\\statsmodels\\graphics\\tsaplots.py:348: FutureWarning: The default method 'yw' can produce PACF values outside of the [-1,1] interval. After 0.13, the default will change tounadjusted Yule-Walker ('ywm'). You can use this method now by setting method='ywm'.\n",
      "  warnings.warn(\n"
     ]
    },
    {
     "data": {
      "image/png": "[encoded data removed]",
      "text/plain": [
       "<Figure size 432x288 with 1 Axes>"
      ]
     },
     "metadata": {
      "needs_background": "light"
     },
     "output_type": "display_data"
    }
   ],
   "source": [
    "pacf=plot_pacf(df['First_diff'].dropna())"
   ]
  },
  {
   "cell_type": "code",
   "execution_count": 165,
   "id": "4fe3836d",
   "metadata": {},
   "outputs": [],
   "source": [
    "from datetime import datetime,timedelta\n",
    "train_data_end=datetime(2025,4,15)\n",
    "test_data_end=datetime(2025,4,30)"
   ]
  },
  {
   "cell_type": "code",
   "execution_count": 166,
   "id": "20b7d341",
   "metadata": {},
   "outputs": [],
   "source": [
    "train_data=df[:train_data_end]\n",
    "test_data=df[train_data_end+timedelta(days=1):test_data_end]"
   ]
  },
  {
   "cell_type": "code",
   "execution_count": 167,
   "id": "cc534b33",
   "metadata": {},
   "outputs": [],
   "source": [
    "#prediction\n",
    "\n",
    "pred_start_date=test_data.index[0]\n",
    "pred_end_date=test_data.index[-1]"
   ]
  },
  {
   "cell_type": "code",
   "execution_count": 168,
   "id": "870ababc",
   "metadata": {},
   "outputs": [
    {
     "data": {
      "text/html": [
       "<div>\n",
       "<style scoped>\n",
       "    .dataframe tbody tr th:only-of-type {\n",
       "        vertical-align: middle;\n",
       "    }\n",
       "\n",
       "    .dataframe tbody tr th {\n",
       "        vertical-align: top;\n",
       "    }\n",
       "\n",
       "    .dataframe thead th {\n",
       "        text-align: right;\n",
       "    }\n",
       "</style>\n",
       "<table border=\"1\" class=\"dataframe\">\n",
       "  <thead>\n",
       "    <tr style=\"text-align: right;\">\n",
       "      <th></th>\n",
       "      <th>BUYER</th>\n",
       "      <th>SELLER</th>\n",
       "      <th>Mean</th>\n",
       "      <th>First_diff</th>\n",
       "    </tr>\n",
       "    <tr>\n",
       "      <th>Date</th>\n",
       "      <th></th>\n",
       "      <th></th>\n",
       "      <th></th>\n",
       "      <th></th>\n",
       "    </tr>\n",
       "  </thead>\n",
       "  <tbody>\n",
       "    <tr>\n",
       "      <th>2025-04-16</th>\n",
       "      <td>9082.0</td>\n",
       "      <td>9083.0</td>\n",
       "      <td>9082.50</td>\n",
       "      <td>-11.00</td>\n",
       "    </tr>\n",
       "    <tr>\n",
       "      <th>2025-04-17</th>\n",
       "      <td>9103.0</td>\n",
       "      <td>9104.0</td>\n",
       "      <td>9103.50</td>\n",
       "      <td>21.00</td>\n",
       "    </tr>\n",
       "    <tr>\n",
       "      <th>2025-04-22</th>\n",
       "      <td>9293.0</td>\n",
       "      <td>9293.5</td>\n",
       "      <td>9293.25</td>\n",
       "      <td>189.75</td>\n",
       "    </tr>\n",
       "    <tr>\n",
       "      <th>2025-04-23</th>\n",
       "      <td>9416.0</td>\n",
       "      <td>9416.5</td>\n",
       "      <td>9416.25</td>\n",
       "      <td>123.00</td>\n",
       "    </tr>\n",
       "    <tr>\n",
       "      <th>2025-04-24</th>\n",
       "      <td>9410.0</td>\n",
       "      <td>9410.5</td>\n",
       "      <td>9410.25</td>\n",
       "      <td>-6.00</td>\n",
       "    </tr>\n",
       "    <tr>\n",
       "      <th>2025-04-25</th>\n",
       "      <td>9363.5</td>\n",
       "      <td>9364.0</td>\n",
       "      <td>9363.75</td>\n",
       "      <td>-46.50</td>\n",
       "    </tr>\n",
       "    <tr>\n",
       "      <th>2025-04-28</th>\n",
       "      <td>9365.0</td>\n",
       "      <td>9365.5</td>\n",
       "      <td>9365.25</td>\n",
       "      <td>1.50</td>\n",
       "    </tr>\n",
       "    <tr>\n",
       "      <th>2025-04-29</th>\n",
       "      <td>9486.5</td>\n",
       "      <td>9487.5</td>\n",
       "      <td>9487.00</td>\n",
       "      <td>121.75</td>\n",
       "    </tr>\n",
       "    <tr>\n",
       "      <th>2025-04-30</th>\n",
       "      <td>9203.0</td>\n",
       "      <td>9204.0</td>\n",
       "      <td>9203.50</td>\n",
       "      <td>-283.50</td>\n",
       "    </tr>\n",
       "  </tbody>\n",
       "</table>\n",
       "</div>"
      ],
      "text/plain": [
       "             BUYER  SELLER     Mean  First_diff\n",
       "Date                                           \n",
       "2025-04-16  9082.0  9083.0  9082.50      -11.00\n",
       "2025-04-17  9103.0  9104.0  9103.50       21.00\n",
       "2025-04-22  9293.0  9293.5  9293.25      189.75\n",
       "2025-04-23  9416.0  9416.5  9416.25      123.00\n",
       "2025-04-24  9410.0  9410.5  9410.25       -6.00\n",
       "2025-04-25  9363.5  9364.0  9363.75      -46.50\n",
       "2025-04-28  9365.0  9365.5  9365.25        1.50\n",
       "2025-04-29  9486.5  9487.5  9487.00      121.75\n",
       "2025-04-30  9203.0  9204.0  9203.50     -283.50"
      ]
     },
     "execution_count": 168,
     "metadata": {},
     "output_type": "execute_result"
    }
   ],
   "source": [
    "test_data"
   ]
  },
  {
   "cell_type": "code",
   "execution_count": 169,
   "id": "1fd5dfd2",
   "metadata": {},
   "outputs": [
    {
     "data": {
      "text/html": [
       "<div>\n",
       "<style scoped>\n",
       "    .dataframe tbody tr th:only-of-type {\n",
       "        vertical-align: middle;\n",
       "    }\n",
       "\n",
       "    .dataframe tbody tr th {\n",
       "        vertical-align: top;\n",
       "    }\n",
       "\n",
       "    .dataframe thead th {\n",
       "        text-align: right;\n",
       "    }\n",
       "</style>\n",
       "<table border=\"1\" class=\"dataframe\">\n",
       "  <thead>\n",
       "    <tr style=\"text-align: right;\">\n",
       "      <th></th>\n",
       "      <th>BUYER</th>\n",
       "      <th>SELLER</th>\n",
       "      <th>Mean</th>\n",
       "      <th>First_diff</th>\n",
       "    </tr>\n",
       "    <tr>\n",
       "      <th>Date</th>\n",
       "      <th></th>\n",
       "      <th></th>\n",
       "      <th></th>\n",
       "      <th></th>\n",
       "    </tr>\n",
       "  </thead>\n",
       "  <tbody>\n",
       "    <tr>\n",
       "      <th>2025-01-02</th>\n",
       "      <td>8685.0</td>\n",
       "      <td>8685.5</td>\n",
       "      <td>8685.25</td>\n",
       "      <td>NaN</td>\n",
       "    </tr>\n",
       "    <tr>\n",
       "      <th>2025-01-03</th>\n",
       "      <td>8700.5</td>\n",
       "      <td>8701.0</td>\n",
       "      <td>8700.75</td>\n",
       "      <td>15.50</td>\n",
       "    </tr>\n",
       "    <tr>\n",
       "      <th>2025-01-06</th>\n",
       "      <td>8893.0</td>\n",
       "      <td>8893.5</td>\n",
       "      <td>8893.25</td>\n",
       "      <td>192.50</td>\n",
       "    </tr>\n",
       "    <tr>\n",
       "      <th>2025-01-07</th>\n",
       "      <td>8885.5</td>\n",
       "      <td>8886.0</td>\n",
       "      <td>8885.75</td>\n",
       "      <td>-7.50</td>\n",
       "    </tr>\n",
       "    <tr>\n",
       "      <th>2025-01-08</th>\n",
       "      <td>8846.5</td>\n",
       "      <td>8847.0</td>\n",
       "      <td>8846.75</td>\n",
       "      <td>-39.00</td>\n",
       "    </tr>\n",
       "    <tr>\n",
       "      <th>...</th>\n",
       "      <td>...</td>\n",
       "      <td>...</td>\n",
       "      <td>...</td>\n",
       "      <td>...</td>\n",
       "    </tr>\n",
       "    <tr>\n",
       "      <th>2025-04-09</th>\n",
       "      <td>8538.0</td>\n",
       "      <td>8539.0</td>\n",
       "      <td>8538.50</td>\n",
       "      <td>-220.50</td>\n",
       "    </tr>\n",
       "    <tr>\n",
       "      <th>2025-04-10</th>\n",
       "      <td>8976.0</td>\n",
       "      <td>8978.0</td>\n",
       "      <td>8977.00</td>\n",
       "      <td>438.50</td>\n",
       "    </tr>\n",
       "    <tr>\n",
       "      <th>2025-04-11</th>\n",
       "      <td>9175.0</td>\n",
       "      <td>9180.0</td>\n",
       "      <td>9177.50</td>\n",
       "      <td>200.50</td>\n",
       "    </tr>\n",
       "    <tr>\n",
       "      <th>2025-04-14</th>\n",
       "      <td>9212.0</td>\n",
       "      <td>9212.5</td>\n",
       "      <td>9212.25</td>\n",
       "      <td>34.75</td>\n",
       "    </tr>\n",
       "    <tr>\n",
       "      <th>2025-04-15</th>\n",
       "      <td>9093.0</td>\n",
       "      <td>9094.0</td>\n",
       "      <td>9093.50</td>\n",
       "      <td>-118.75</td>\n",
       "    </tr>\n",
       "  </tbody>\n",
       "</table>\n",
       "<p>74 rows × 4 columns</p>\n",
       "</div>"
      ],
      "text/plain": [
       "             BUYER  SELLER     Mean  First_diff\n",
       "Date                                           \n",
       "2025-01-02  8685.0  8685.5  8685.25         NaN\n",
       "2025-01-03  8700.5  8701.0  8700.75       15.50\n",
       "2025-01-06  8893.0  8893.5  8893.25      192.50\n",
       "2025-01-07  8885.5  8886.0  8885.75       -7.50\n",
       "2025-01-08  8846.5  8847.0  8846.75      -39.00\n",
       "...            ...     ...      ...         ...\n",
       "2025-04-09  8538.0  8539.0  8538.50     -220.50\n",
       "2025-04-10  8976.0  8978.0  8977.00      438.50\n",
       "2025-04-11  9175.0  9180.0  9177.50      200.50\n",
       "2025-04-14  9212.0  9212.5  9212.25       34.75\n",
       "2025-04-15  9093.0  9094.0  9093.50     -118.75\n",
       "\n",
       "[74 rows x 4 columns]"
      ]
     },
     "execution_count": 169,
     "metadata": {},
     "output_type": "execute_result"
    }
   ],
   "source": [
    "train_data"
   ]
  },
  {
   "cell_type": "code",
   "execution_count": 170,
   "id": "352deda3",
   "metadata": {},
   "outputs": [
    {
     "name": "stderr",
     "output_type": "stream",
     "text": [
      "C:\\ProgramData\\Anaconda3\\lib\\site-packages\\statsmodels\\tsa\\base\\tsa_model.py:471: ValueWarning: A date index has been provided, but it has no associated frequency information and so will be ignored when e.g. forecasting.\n",
      "  self._init_dates(dates, freq)\n",
      "C:\\ProgramData\\Anaconda3\\lib\\site-packages\\statsmodels\\tsa\\base\\tsa_model.py:471: ValueWarning: A date index has been provided, but it has no associated frequency information and so will be ignored when e.g. forecasting.\n",
      "  self._init_dates(dates, freq)\n"
     ]
    }
   ],
   "source": [
    "mod_sari=SARIMAX(df['Mean'],order=(1,1,1),seasonal_order=(1,1,1,12))"
   ]
  },
  {
   "cell_type": "code",
   "execution_count": 171,
   "id": "d0aaba90",
   "metadata": {},
   "outputs": [],
   "source": [
    "mod_sari_fit=mod_sari.fit()"
   ]
  },
  {
   "cell_type": "code",
   "execution_count": 172,
   "id": "781d4e83",
   "metadata": {},
   "outputs": [
    {
     "data": {
      "text/html": [
       "<table class=\"simpletable\">\n",
       "<caption>SARIMAX Results</caption>\n",
       "<tr>\n",
       "  <th>Dep. Variable:</th>                <td>Mean</td>              <th>  No. Observations:  </th>    <td>83</td>   \n",
       "</tr>\n",
       "<tr>\n",
       "  <th>Model:</th>           <td>SARIMAX(1, 1, 1)x(1, 1, 1, 12)</td> <th>  Log Likelihood     </th> <td>-459.931</td>\n",
       "</tr>\n",
       "<tr>\n",
       "  <th>Date:</th>                   <td>Thu, 29 May 2025</td>        <th>  AIC                </th>  <td>929.862</td>\n",
       "</tr>\n",
       "<tr>\n",
       "  <th>Time:</th>                       <td>10:16:36</td>            <th>  BIC                </th>  <td>941.104</td>\n",
       "</tr>\n",
       "<tr>\n",
       "  <th>Sample:</th>                         <td>0</td>               <th>  HQIC               </th>  <td>934.327</td>\n",
       "</tr>\n",
       "<tr>\n",
       "  <th></th>                              <td> - 83</td>             <th>                     </th>     <td> </td>   \n",
       "</tr>\n",
       "<tr>\n",
       "  <th>Covariance Type:</th>               <td>opg</td>              <th>                     </th>     <td> </td>   \n",
       "</tr>\n",
       "</table>\n",
       "<table class=\"simpletable\">\n",
       "<tr>\n",
       "      <td></td>        <th>coef</th>     <th>std err</th>      <th>z</th>      <th>P>|z|</th>  <th>[0.025</th>    <th>0.975]</th>  \n",
       "</tr>\n",
       "<tr>\n",
       "  <th>ar.L1</th>    <td>    0.9987</td> <td>    0.373</td> <td>    2.678</td> <td> 0.007</td> <td>    0.268</td> <td>    1.730</td>\n",
       "</tr>\n",
       "<tr>\n",
       "  <th>ma.L1</th>    <td>   -0.9683</td> <td>    0.175</td> <td>   -5.523</td> <td> 0.000</td> <td>   -1.312</td> <td>   -0.625</td>\n",
       "</tr>\n",
       "<tr>\n",
       "  <th>ar.S.L12</th> <td>   -0.2895</td> <td>    0.150</td> <td>   -1.930</td> <td> 0.054</td> <td>   -0.583</td> <td>    0.004</td>\n",
       "</tr>\n",
       "<tr>\n",
       "  <th>ma.S.L12</th> <td>   -0.9999</td> <td>    0.252</td> <td>   -3.962</td> <td> 0.000</td> <td>   -1.494</td> <td>   -0.505</td>\n",
       "</tr>\n",
       "<tr>\n",
       "  <th>sigma2</th>   <td> 1.953e+04</td> <td>  1.3e-05</td> <td>  1.5e+09</td> <td> 0.000</td> <td> 1.95e+04</td> <td> 1.95e+04</td>\n",
       "</tr>\n",
       "</table>\n",
       "<table class=\"simpletable\">\n",
       "<tr>\n",
       "  <th>Ljung-Box (L1) (Q):</th>     <td>0.11</td> <th>  Jarque-Bera (JB):  </th> <td>19.43</td>\n",
       "</tr>\n",
       "<tr>\n",
       "  <th>Prob(Q):</th>                <td>0.74</td> <th>  Prob(JB):          </th> <td>0.00</td> \n",
       "</tr>\n",
       "<tr>\n",
       "  <th>Heteroskedasticity (H):</th> <td>1.52</td> <th>  Skew:              </th> <td>-0.41</td>\n",
       "</tr>\n",
       "<tr>\n",
       "  <th>Prob(H) (two-sided):</th>    <td>0.32</td> <th>  Kurtosis:          </th> <td>5.45</td> \n",
       "</tr>\n",
       "</table><br/><br/>Warnings:<br/>[1] Covariance matrix calculated using the outer product of gradients (complex-step).<br/>[2] Covariance matrix is singular or near-singular, with condition number 1.51e+25. Standard errors may be unstable."
      ],
      "text/plain": [
       "<class 'statsmodels.iolib.summary.Summary'>\n",
       "\"\"\"\n",
       "                                     SARIMAX Results                                      \n",
       "==========================================================================================\n",
       "Dep. Variable:                               Mean   No. Observations:                   83\n",
       "Model:             SARIMAX(1, 1, 1)x(1, 1, 1, 12)   Log Likelihood                -459.931\n",
       "Date:                            Thu, 29 May 2025   AIC                            929.862\n",
       "Time:                                    10:16:36   BIC                            941.104\n",
       "Sample:                                         0   HQIC                           934.327\n",
       "                                             - 83                                         \n",
       "Covariance Type:                              opg                                         \n",
       "==============================================================================\n",
       "                 coef    std err          z      P>|z|      [0.025      0.975]\n",
       "------------------------------------------------------------------------------\n",
       "ar.L1          0.9987      0.373      2.678      0.007       0.268       1.730\n",
       "ma.L1         -0.9683      0.175     -5.523      0.000      -1.312      -0.625\n",
       "ar.S.L12      -0.2895      0.150     -1.930      0.054      -0.583       0.004\n",
       "ma.S.L12      -0.9999      0.252     -3.962      0.000      -1.494      -0.505\n",
       "sigma2      1.953e+04    1.3e-05    1.5e+09      0.000    1.95e+04    1.95e+04\n",
       "===================================================================================\n",
       "Ljung-Box (L1) (Q):                   0.11   Jarque-Bera (JB):                19.43\n",
       "Prob(Q):                              0.74   Prob(JB):                         0.00\n",
       "Heteroskedasticity (H):               1.52   Skew:                            -0.41\n",
       "Prob(H) (two-sided):                  0.32   Kurtosis:                         5.45\n",
       "===================================================================================\n",
       "\n",
       "Warnings:\n",
       "[1] Covariance matrix calculated using the outer product of gradients (complex-step).\n",
       "[2] Covariance matrix is singular or near-singular, with condition number 1.51e+25. Standard errors may be unstable.\n",
       "\"\"\""
      ]
     },
     "execution_count": 172,
     "metadata": {},
     "output_type": "execute_result"
    }
   ],
   "source": [
    "mod_sari_fit.summary()"
   ]
  },
  {
   "cell_type": "code",
   "execution_count": 173,
   "id": "9fee2da9",
   "metadata": {},
   "outputs": [],
   "source": [
    "pred1=mod_sari_fit.predict(start=pred_start_date,end=pred_end_date)\n"
   ]
  },
  {
   "cell_type": "code",
   "execution_count": 174,
   "id": "f3d81e39",
   "metadata": {},
   "outputs": [
    {
     "data": {
      "text/plain": [
       "<AxesSubplot:xlabel='Date'>"
      ]
     },
     "execution_count": 174,
     "metadata": {},
     "output_type": "execute_result"
    },
    {
     "data": {
      "image/png": "[encoded data removed]",
      "text/plain": [
       "<Figure size 432x288 with 1 Axes>"
      ]
     },
     "metadata": {
      "needs_background": "light"
     },
     "output_type": "display_data"
    }
   ],
   "source": [
    "mod_sari_fit.resid.plot()"
   ]
  },
  {
   "cell_type": "code",
   "execution_count": 175,
   "id": "16082fe0",
   "metadata": {},
   "outputs": [
    {
     "data": {
      "text/plain": [
       "<AxesSubplot:ylabel='Density'>"
      ]
     },
     "execution_count": 175,
     "metadata": {},
     "output_type": "execute_result"
    },
    {
     "data": {
      "image/png": "[encoded data removed]",
      "text/plain": [
       "<Figure size 432x288 with 1 Axes>"
      ]
     },
     "metadata": {
      "needs_background": "light"
     },
     "output_type": "display_data"
    }
   ],
   "source": [
    "mod_sari_fit.resid.plot(kind='kde')"
   ]
  },
  {
   "cell_type": "code",
   "execution_count": 176,
   "id": "61487b76",
   "metadata": {},
   "outputs": [
    {
     "name": "stderr",
     "output_type": "stream",
     "text": [
      "C:\\Users\\91974\\AppData\\Local\\Temp\\ipykernel_19380\\2708108054.py:1: SettingWithCopyWarning: \n",
      "A value is trying to be set on a copy of a slice from a DataFrame.\n",
      "Try using .loc[row_indexer,col_indexer] = value instead\n",
      "\n",
      "See the caveats in the documentation: https://pandas.pydata.org/pandas-docs/stable/user_guide/indexing.html#returning-a-view-versus-a-copy\n",
      "  test_data['Pred_Sari_yearly']=pred1\n"
     ]
    }
   ],
   "source": [
    "test_data['Pred_Sari_yearly']=pred1"
   ]
  },
  {
   "cell_type": "code",
   "execution_count": 177,
   "id": "5a966054",
   "metadata": {},
   "outputs": [
    {
     "data": {
      "text/html": [
       "<div>\n",
       "<style scoped>\n",
       "    .dataframe tbody tr th:only-of-type {\n",
       "        vertical-align: middle;\n",
       "    }\n",
       "\n",
       "    .dataframe tbody tr th {\n",
       "        vertical-align: top;\n",
       "    }\n",
       "\n",
       "    .dataframe thead th {\n",
       "        text-align: right;\n",
       "    }\n",
       "</style>\n",
       "<table border=\"1\" class=\"dataframe\">\n",
       "  <thead>\n",
       "    <tr style=\"text-align: right;\">\n",
       "      <th></th>\n",
       "      <th>BUYER</th>\n",
       "      <th>SELLER</th>\n",
       "      <th>Mean</th>\n",
       "      <th>First_diff</th>\n",
       "      <th>Pred_Sari_yearly</th>\n",
       "    </tr>\n",
       "    <tr>\n",
       "      <th>Date</th>\n",
       "      <th></th>\n",
       "      <th></th>\n",
       "      <th></th>\n",
       "      <th></th>\n",
       "      <th></th>\n",
       "    </tr>\n",
       "  </thead>\n",
       "  <tbody>\n",
       "    <tr>\n",
       "      <th>2025-04-16</th>\n",
       "      <td>9082.0</td>\n",
       "      <td>9083.0</td>\n",
       "      <td>9082.50</td>\n",
       "      <td>-11.00</td>\n",
       "      <td>9146.798782</td>\n",
       "    </tr>\n",
       "    <tr>\n",
       "      <th>2025-04-17</th>\n",
       "      <td>9103.0</td>\n",
       "      <td>9104.0</td>\n",
       "      <td>9103.50</td>\n",
       "      <td>21.00</td>\n",
       "      <td>9074.468153</td>\n",
       "    </tr>\n",
       "    <tr>\n",
       "      <th>2025-04-22</th>\n",
       "      <td>9293.0</td>\n",
       "      <td>9293.5</td>\n",
       "      <td>9293.25</td>\n",
       "      <td>189.75</td>\n",
       "      <td>9086.077238</td>\n",
       "    </tr>\n",
       "    <tr>\n",
       "      <th>2025-04-23</th>\n",
       "      <td>9416.0</td>\n",
       "      <td>9416.5</td>\n",
       "      <td>9416.25</td>\n",
       "      <td>123.00</td>\n",
       "      <td>9307.541944</td>\n",
       "    </tr>\n",
       "    <tr>\n",
       "      <th>2025-04-24</th>\n",
       "      <td>9410.0</td>\n",
       "      <td>9410.5</td>\n",
       "      <td>9410.25</td>\n",
       "      <td>-6.00</td>\n",
       "      <td>9476.506169</td>\n",
       "    </tr>\n",
       "    <tr>\n",
       "      <th>2025-04-25</th>\n",
       "      <td>9363.5</td>\n",
       "      <td>9364.0</td>\n",
       "      <td>9363.75</td>\n",
       "      <td>-46.50</td>\n",
       "      <td>9507.858865</td>\n",
       "    </tr>\n",
       "    <tr>\n",
       "      <th>2025-04-28</th>\n",
       "      <td>9365.0</td>\n",
       "      <td>9365.5</td>\n",
       "      <td>9365.25</td>\n",
       "      <td>1.50</td>\n",
       "      <td>9281.456571</td>\n",
       "    </tr>\n",
       "    <tr>\n",
       "      <th>2025-04-29</th>\n",
       "      <td>9486.5</td>\n",
       "      <td>9487.5</td>\n",
       "      <td>9487.00</td>\n",
       "      <td>121.75</td>\n",
       "      <td>9436.042431</td>\n",
       "    </tr>\n",
       "    <tr>\n",
       "      <th>2025-04-30</th>\n",
       "      <td>9203.0</td>\n",
       "      <td>9204.0</td>\n",
       "      <td>9203.50</td>\n",
       "      <td>-283.50</td>\n",
       "      <td>9466.636060</td>\n",
       "    </tr>\n",
       "  </tbody>\n",
       "</table>\n",
       "</div>"
      ],
      "text/plain": [
       "             BUYER  SELLER     Mean  First_diff  Pred_Sari_yearly\n",
       "Date                                                             \n",
       "2025-04-16  9082.0  9083.0  9082.50      -11.00       9146.798782\n",
       "2025-04-17  9103.0  9104.0  9103.50       21.00       9074.468153\n",
       "2025-04-22  9293.0  9293.5  9293.25      189.75       9086.077238\n",
       "2025-04-23  9416.0  9416.5  9416.25      123.00       9307.541944\n",
       "2025-04-24  9410.0  9410.5  9410.25       -6.00       9476.506169\n",
       "2025-04-25  9363.5  9364.0  9363.75      -46.50       9507.858865\n",
       "2025-04-28  9365.0  9365.5  9365.25        1.50       9281.456571\n",
       "2025-04-29  9486.5  9487.5  9487.00      121.75       9436.042431\n",
       "2025-04-30  9203.0  9204.0  9203.50     -283.50       9466.636060"
      ]
     },
     "execution_count": 177,
     "metadata": {},
     "output_type": "execute_result"
    }
   ],
   "source": [
    "test_data"
   ]
  },
  {
   "cell_type": "code",
   "execution_count": 178,
   "id": "351161d2",
   "metadata": {},
   "outputs": [
    {
     "data": {
      "text/plain": [
       "Date\n",
       "2025-04-16    9146.798782\n",
       "2025-04-17    9074.468153\n",
       "2025-04-22    9086.077238\n",
       "2025-04-23    9307.541944\n",
       "2025-04-24    9476.506169\n",
       "2025-04-25    9507.858865\n",
       "2025-04-28    9281.456571\n",
       "2025-04-29    9436.042431\n",
       "2025-04-30    9466.636060\n",
       "Name: predicted_mean, dtype: float64"
      ]
     },
     "execution_count": 178,
     "metadata": {},
     "output_type": "execute_result"
    }
   ],
   "source": [
    "pred1"
   ]
  },
  {
   "cell_type": "code",
   "execution_count": 179,
   "id": "532e3aac",
   "metadata": {},
   "outputs": [
    {
     "data": {
      "text/html": [
       "<div>\n",
       "<style scoped>\n",
       "    .dataframe tbody tr th:only-of-type {\n",
       "        vertical-align: middle;\n",
       "    }\n",
       "\n",
       "    .dataframe tbody tr th {\n",
       "        vertical-align: top;\n",
       "    }\n",
       "\n",
       "    .dataframe thead th {\n",
       "        text-align: right;\n",
       "    }\n",
       "</style>\n",
       "<table border=\"1\" class=\"dataframe\">\n",
       "  <thead>\n",
       "    <tr style=\"text-align: right;\">\n",
       "      <th></th>\n",
       "      <th>BUYER</th>\n",
       "      <th>SELLER</th>\n",
       "      <th>Mean</th>\n",
       "      <th>First_diff</th>\n",
       "      <th>Pred_Sari_yearly</th>\n",
       "    </tr>\n",
       "    <tr>\n",
       "      <th>Date</th>\n",
       "      <th></th>\n",
       "      <th></th>\n",
       "      <th></th>\n",
       "      <th></th>\n",
       "      <th></th>\n",
       "    </tr>\n",
       "  </thead>\n",
       "  <tbody>\n",
       "    <tr>\n",
       "      <th>2025-04-16</th>\n",
       "      <td>9082.0</td>\n",
       "      <td>9083.0</td>\n",
       "      <td>9082.50</td>\n",
       "      <td>-11.00</td>\n",
       "      <td>9146.798782</td>\n",
       "    </tr>\n",
       "    <tr>\n",
       "      <th>2025-04-17</th>\n",
       "      <td>9103.0</td>\n",
       "      <td>9104.0</td>\n",
       "      <td>9103.50</td>\n",
       "      <td>21.00</td>\n",
       "      <td>9074.468153</td>\n",
       "    </tr>\n",
       "    <tr>\n",
       "      <th>2025-04-22</th>\n",
       "      <td>9293.0</td>\n",
       "      <td>9293.5</td>\n",
       "      <td>9293.25</td>\n",
       "      <td>189.75</td>\n",
       "      <td>9086.077238</td>\n",
       "    </tr>\n",
       "    <tr>\n",
       "      <th>2025-04-23</th>\n",
       "      <td>9416.0</td>\n",
       "      <td>9416.5</td>\n",
       "      <td>9416.25</td>\n",
       "      <td>123.00</td>\n",
       "      <td>9307.541944</td>\n",
       "    </tr>\n",
       "    <tr>\n",
       "      <th>2025-04-24</th>\n",
       "      <td>9410.0</td>\n",
       "      <td>9410.5</td>\n",
       "      <td>9410.25</td>\n",
       "      <td>-6.00</td>\n",
       "      <td>9476.506169</td>\n",
       "    </tr>\n",
       "    <tr>\n",
       "      <th>2025-04-25</th>\n",
       "      <td>9363.5</td>\n",
       "      <td>9364.0</td>\n",
       "      <td>9363.75</td>\n",
       "      <td>-46.50</td>\n",
       "      <td>9507.858865</td>\n",
       "    </tr>\n",
       "    <tr>\n",
       "      <th>2025-04-28</th>\n",
       "      <td>9365.0</td>\n",
       "      <td>9365.5</td>\n",
       "      <td>9365.25</td>\n",
       "      <td>1.50</td>\n",
       "      <td>9281.456571</td>\n",
       "    </tr>\n",
       "    <tr>\n",
       "      <th>2025-04-29</th>\n",
       "      <td>9486.5</td>\n",
       "      <td>9487.5</td>\n",
       "      <td>9487.00</td>\n",
       "      <td>121.75</td>\n",
       "      <td>9436.042431</td>\n",
       "    </tr>\n",
       "    <tr>\n",
       "      <th>2025-04-30</th>\n",
       "      <td>9203.0</td>\n",
       "      <td>9204.0</td>\n",
       "      <td>9203.50</td>\n",
       "      <td>-283.50</td>\n",
       "      <td>9466.636060</td>\n",
       "    </tr>\n",
       "  </tbody>\n",
       "</table>\n",
       "</div>"
      ],
      "text/plain": [
       "             BUYER  SELLER     Mean  First_diff  Pred_Sari_yearly\n",
       "Date                                                             \n",
       "2025-04-16  9082.0  9083.0  9082.50      -11.00       9146.798782\n",
       "2025-04-17  9103.0  9104.0  9103.50       21.00       9074.468153\n",
       "2025-04-22  9293.0  9293.5  9293.25      189.75       9086.077238\n",
       "2025-04-23  9416.0  9416.5  9416.25      123.00       9307.541944\n",
       "2025-04-24  9410.0  9410.5  9410.25       -6.00       9476.506169\n",
       "2025-04-25  9363.5  9364.0  9363.75      -46.50       9507.858865\n",
       "2025-04-28  9365.0  9365.5  9365.25        1.50       9281.456571\n",
       "2025-04-29  9486.5  9487.5  9487.00      121.75       9436.042431\n",
       "2025-04-30  9203.0  9204.0  9203.50     -283.50       9466.636060"
      ]
     },
     "execution_count": 179,
     "metadata": {},
     "output_type": "execute_result"
    }
   ],
   "source": [
    "test_data"
   ]
  },
  {
   "cell_type": "code",
   "execution_count": 180,
   "id": "da58c5cc",
   "metadata": {},
   "outputs": [
    {
     "data": {
      "text/plain": [
       "<AxesSubplot:xlabel='Date'>"
      ]
     },
     "execution_count": 180,
     "metadata": {},
     "output_type": "execute_result"
    },
    {
     "data": {
      "image/png": "[encoded data removed]",
      "text/plain": [
       "<Figure size 1080x576 with 1 Axes>"
      ]
     },
     "metadata": {
      "needs_background": "light"
     },
     "output_type": "display_data"
    }
   ],
   "source": [
    "test_data[['Pred_Sari_yearly','Mean']].plot(figsize=(15,8))"
   ]
  },
  {
   "cell_type": "code",
   "execution_count": 181,
   "id": "fc824c49",
   "metadata": {},
   "outputs": [
    {
     "name": "stderr",
     "output_type": "stream",
     "text": [
      "C:\\ProgramData\\Anaconda3\\lib\\site-packages\\statsmodels\\tsa\\base\\tsa_model.py:471: ValueWarning: A date index has been provided, but it has no associated frequency information and so will be ignored when e.g. forecasting.\n",
      "  self._init_dates(dates, freq)\n",
      "C:\\ProgramData\\Anaconda3\\lib\\site-packages\\statsmodels\\tsa\\base\\tsa_model.py:471: ValueWarning: A date index has been provided, but it has no associated frequency information and so will be ignored when e.g. forecasting.\n",
      "  self._init_dates(dates, freq)\n"
     ]
    }
   ],
   "source": [
    "mod_sari2=SARIMAX(df['Mean'],order=(1,1,1),seasonal_order=(1,1,1,4))"
   ]
  },
  {
   "cell_type": "code",
   "execution_count": 182,
   "id": "daae4ace",
   "metadata": {},
   "outputs": [],
   "source": [
    "mod_sari2_fit=mod_sari2.fit()"
   ]
  },
  {
   "cell_type": "code",
   "execution_count": 183,
   "id": "6aed27ba",
   "metadata": {},
   "outputs": [],
   "source": [
    "pred2=mod_sari2_fit.predict(start=pred_start_date,end=pred_end_date)\n"
   ]
  },
  {
   "cell_type": "code",
   "execution_count": 184,
   "id": "688257a1",
   "metadata": {},
   "outputs": [
    {
     "data": {
      "text/plain": [
       "<AxesSubplot:xlabel='Date'>"
      ]
     },
     "execution_count": 184,
     "metadata": {},
     "output_type": "execute_result"
    },
    {
     "data": {
      "image/png": "[encoded data removed]",
      "text/plain": [
       "<Figure size 432x288 with 1 Axes>"
      ]
     },
     "metadata": {
      "needs_background": "light"
     },
     "output_type": "display_data"
    }
   ],
   "source": [
    "mod_sari2_fit.resid.plot()"
   ]
  },
  {
   "cell_type": "code",
   "execution_count": 185,
   "id": "089c1c74",
   "metadata": {},
   "outputs": [
    {
     "data": {
      "text/plain": [
       "<AxesSubplot:ylabel='Density'>"
      ]
     },
     "execution_count": 185,
     "metadata": {},
     "output_type": "execute_result"
    },
    {
     "data": {
      "image/png": "[encoded data removed]",
      "text/plain": [
       "<Figure size 432x288 with 1 Axes>"
      ]
     },
     "metadata": {
      "needs_background": "light"
     },
     "output_type": "display_data"
    }
   ],
   "source": [
    "mod_sari2_fit.resid.plot(kind='kde')"
   ]
  },
  {
   "cell_type": "code",
   "execution_count": 186,
   "id": "a67486cc",
   "metadata": {},
   "outputs": [
    {
     "data": {
      "text/plain": [
       "Date\n",
       "2025-04-16    9137.659134\n",
       "2025-04-17    9146.038756\n",
       "2025-04-22    9080.735378\n",
       "2025-04-23    9301.989882\n",
       "2025-04-24    9412.580762\n",
       "2025-04-25    9457.453225\n",
       "2025-04-28    9361.484783\n",
       "2025-04-29    9399.123924\n",
       "2025-04-30    9486.554196\n",
       "Name: predicted_mean, dtype: float64"
      ]
     },
     "execution_count": 186,
     "metadata": {},
     "output_type": "execute_result"
    }
   ],
   "source": [
    "pred2"
   ]
  },
  {
   "cell_type": "code",
   "execution_count": 187,
   "id": "d4f1693b",
   "metadata": {},
   "outputs": [
    {
     "name": "stderr",
     "output_type": "stream",
     "text": [
      "C:\\Users\\91974\\AppData\\Local\\Temp\\ipykernel_19380\\3860261309.py:1: SettingWithCopyWarning: \n",
      "A value is trying to be set on a copy of a slice from a DataFrame.\n",
      "Try using .loc[row_indexer,col_indexer] = value instead\n",
      "\n",
      "See the caveats in the documentation: https://pandas.pydata.org/pandas-docs/stable/user_guide/indexing.html#returning-a-view-versus-a-copy\n",
      "  test_data['Pred_sari_Quarter']=pred2\n"
     ]
    }
   ],
   "source": [
    "test_data['Pred_sari_Quarter']=pred2"
   ]
  },
  {
   "cell_type": "code",
   "execution_count": 188,
   "id": "cffb1fb8",
   "metadata": {},
   "outputs": [
    {
     "data": {
      "text/html": [
       "<div>\n",
       "<style scoped>\n",
       "    .dataframe tbody tr th:only-of-type {\n",
       "        vertical-align: middle;\n",
       "    }\n",
       "\n",
       "    .dataframe tbody tr th {\n",
       "        vertical-align: top;\n",
       "    }\n",
       "\n",
       "    .dataframe thead th {\n",
       "        text-align: right;\n",
       "    }\n",
       "</style>\n",
       "<table border=\"1\" class=\"dataframe\">\n",
       "  <thead>\n",
       "    <tr style=\"text-align: right;\">\n",
       "      <th></th>\n",
       "      <th>BUYER</th>\n",
       "      <th>SELLER</th>\n",
       "      <th>Mean</th>\n",
       "      <th>First_diff</th>\n",
       "      <th>Pred_Sari_yearly</th>\n",
       "      <th>Pred_sari_Quarter</th>\n",
       "    </tr>\n",
       "    <tr>\n",
       "      <th>Date</th>\n",
       "      <th></th>\n",
       "      <th></th>\n",
       "      <th></th>\n",
       "      <th></th>\n",
       "      <th></th>\n",
       "      <th></th>\n",
       "    </tr>\n",
       "  </thead>\n",
       "  <tbody>\n",
       "    <tr>\n",
       "      <th>2025-04-16</th>\n",
       "      <td>9082.0</td>\n",
       "      <td>9083.0</td>\n",
       "      <td>9082.50</td>\n",
       "      <td>-11.00</td>\n",
       "      <td>9146.798782</td>\n",
       "      <td>9137.659134</td>\n",
       "    </tr>\n",
       "    <tr>\n",
       "      <th>2025-04-17</th>\n",
       "      <td>9103.0</td>\n",
       "      <td>9104.0</td>\n",
       "      <td>9103.50</td>\n",
       "      <td>21.00</td>\n",
       "      <td>9074.468153</td>\n",
       "      <td>9146.038756</td>\n",
       "    </tr>\n",
       "    <tr>\n",
       "      <th>2025-04-22</th>\n",
       "      <td>9293.0</td>\n",
       "      <td>9293.5</td>\n",
       "      <td>9293.25</td>\n",
       "      <td>189.75</td>\n",
       "      <td>9086.077238</td>\n",
       "      <td>9080.735378</td>\n",
       "    </tr>\n",
       "    <tr>\n",
       "      <th>2025-04-23</th>\n",
       "      <td>9416.0</td>\n",
       "      <td>9416.5</td>\n",
       "      <td>9416.25</td>\n",
       "      <td>123.00</td>\n",
       "      <td>9307.541944</td>\n",
       "      <td>9301.989882</td>\n",
       "    </tr>\n",
       "    <tr>\n",
       "      <th>2025-04-24</th>\n",
       "      <td>9410.0</td>\n",
       "      <td>9410.5</td>\n",
       "      <td>9410.25</td>\n",
       "      <td>-6.00</td>\n",
       "      <td>9476.506169</td>\n",
       "      <td>9412.580762</td>\n",
       "    </tr>\n",
       "    <tr>\n",
       "      <th>2025-04-25</th>\n",
       "      <td>9363.5</td>\n",
       "      <td>9364.0</td>\n",
       "      <td>9363.75</td>\n",
       "      <td>-46.50</td>\n",
       "      <td>9507.858865</td>\n",
       "      <td>9457.453225</td>\n",
       "    </tr>\n",
       "    <tr>\n",
       "      <th>2025-04-28</th>\n",
       "      <td>9365.0</td>\n",
       "      <td>9365.5</td>\n",
       "      <td>9365.25</td>\n",
       "      <td>1.50</td>\n",
       "      <td>9281.456571</td>\n",
       "      <td>9361.484783</td>\n",
       "    </tr>\n",
       "    <tr>\n",
       "      <th>2025-04-29</th>\n",
       "      <td>9486.5</td>\n",
       "      <td>9487.5</td>\n",
       "      <td>9487.00</td>\n",
       "      <td>121.75</td>\n",
       "      <td>9436.042431</td>\n",
       "      <td>9399.123924</td>\n",
       "    </tr>\n",
       "    <tr>\n",
       "      <th>2025-04-30</th>\n",
       "      <td>9203.0</td>\n",
       "      <td>9204.0</td>\n",
       "      <td>9203.50</td>\n",
       "      <td>-283.50</td>\n",
       "      <td>9466.636060</td>\n",
       "      <td>9486.554196</td>\n",
       "    </tr>\n",
       "  </tbody>\n",
       "</table>\n",
       "</div>"
      ],
      "text/plain": [
       "             BUYER  SELLER     Mean  First_diff  Pred_Sari_yearly  \\\n",
       "Date                                                                \n",
       "2025-04-16  9082.0  9083.0  9082.50      -11.00       9146.798782   \n",
       "2025-04-17  9103.0  9104.0  9103.50       21.00       9074.468153   \n",
       "2025-04-22  9293.0  9293.5  9293.25      189.75       9086.077238   \n",
       "2025-04-23  9416.0  9416.5  9416.25      123.00       9307.541944   \n",
       "2025-04-24  9410.0  9410.5  9410.25       -6.00       9476.506169   \n",
       "2025-04-25  9363.5  9364.0  9363.75      -46.50       9507.858865   \n",
       "2025-04-28  9365.0  9365.5  9365.25        1.50       9281.456571   \n",
       "2025-04-29  9486.5  9487.5  9487.00      121.75       9436.042431   \n",
       "2025-04-30  9203.0  9204.0  9203.50     -283.50       9466.636060   \n",
       "\n",
       "            Pred_sari_Quarter  \n",
       "Date                           \n",
       "2025-04-16        9137.659134  \n",
       "2025-04-17        9146.038756  \n",
       "2025-04-22        9080.735378  \n",
       "2025-04-23        9301.989882  \n",
       "2025-04-24        9412.580762  \n",
       "2025-04-25        9457.453225  \n",
       "2025-04-28        9361.484783  \n",
       "2025-04-29        9399.123924  \n",
       "2025-04-30        9486.554196  "
      ]
     },
     "execution_count": 188,
     "metadata": {},
     "output_type": "execute_result"
    }
   ],
   "source": [
    "test_data"
   ]
  },
  {
   "cell_type": "code",
   "execution_count": 189,
   "id": "15c68aa3",
   "metadata": {},
   "outputs": [
    {
     "data": {
      "text/plain": [
       "<AxesSubplot:xlabel='Date'>"
      ]
     },
     "execution_count": 189,
     "metadata": {},
     "output_type": "execute_result"
    },
    {
     "data": {
      "image/png": "[encoded data removed]",
      "text/plain": [
       "<Figure size 1080x576 with 1 Axes>"
      ]
     },
     "metadata": {
      "needs_background": "light"
     },
     "output_type": "display_data"
    }
   ],
   "source": [
    "test_data[['Mean','Pred_sari_Quarter']].plot(figsize=(15,8))"
   ]
  },
  {
   "cell_type": "code",
   "execution_count": 190,
   "id": "df64bc9b",
   "metadata": {},
   "outputs": [
    {
     "data": {
      "text/html": [
       "<div>\n",
       "<style scoped>\n",
       "    .dataframe tbody tr th:only-of-type {\n",
       "        vertical-align: middle;\n",
       "    }\n",
       "\n",
       "    .dataframe tbody tr th {\n",
       "        vertical-align: top;\n",
       "    }\n",
       "\n",
       "    .dataframe thead th {\n",
       "        text-align: right;\n",
       "    }\n",
       "</style>\n",
       "<table border=\"1\" class=\"dataframe\">\n",
       "  <thead>\n",
       "    <tr style=\"text-align: right;\">\n",
       "      <th></th>\n",
       "      <th>Mean</th>\n",
       "      <th>Pred_sari_Quarter</th>\n",
       "      <th>Pred_Sari_yearly</th>\n",
       "    </tr>\n",
       "    <tr>\n",
       "      <th>Date</th>\n",
       "      <th></th>\n",
       "      <th></th>\n",
       "      <th></th>\n",
       "    </tr>\n",
       "  </thead>\n",
       "  <tbody>\n",
       "    <tr>\n",
       "      <th>2025-04-16</th>\n",
       "      <td>9082.50</td>\n",
       "      <td>9137.659134</td>\n",
       "      <td>9146.798782</td>\n",
       "    </tr>\n",
       "    <tr>\n",
       "      <th>2025-04-17</th>\n",
       "      <td>9103.50</td>\n",
       "      <td>9146.038756</td>\n",
       "      <td>9074.468153</td>\n",
       "    </tr>\n",
       "    <tr>\n",
       "      <th>2025-04-22</th>\n",
       "      <td>9293.25</td>\n",
       "      <td>9080.735378</td>\n",
       "      <td>9086.077238</td>\n",
       "    </tr>\n",
       "    <tr>\n",
       "      <th>2025-04-23</th>\n",
       "      <td>9416.25</td>\n",
       "      <td>9301.989882</td>\n",
       "      <td>9307.541944</td>\n",
       "    </tr>\n",
       "    <tr>\n",
       "      <th>2025-04-24</th>\n",
       "      <td>9410.25</td>\n",
       "      <td>9412.580762</td>\n",
       "      <td>9476.506169</td>\n",
       "    </tr>\n",
       "    <tr>\n",
       "      <th>2025-04-25</th>\n",
       "      <td>9363.75</td>\n",
       "      <td>9457.453225</td>\n",
       "      <td>9507.858865</td>\n",
       "    </tr>\n",
       "    <tr>\n",
       "      <th>2025-04-28</th>\n",
       "      <td>9365.25</td>\n",
       "      <td>9361.484783</td>\n",
       "      <td>9281.456571</td>\n",
       "    </tr>\n",
       "    <tr>\n",
       "      <th>2025-04-29</th>\n",
       "      <td>9487.00</td>\n",
       "      <td>9399.123924</td>\n",
       "      <td>9436.042431</td>\n",
       "    </tr>\n",
       "    <tr>\n",
       "      <th>2025-04-30</th>\n",
       "      <td>9203.50</td>\n",
       "      <td>9486.554196</td>\n",
       "      <td>9466.636060</td>\n",
       "    </tr>\n",
       "  </tbody>\n",
       "</table>\n",
       "</div>"
      ],
      "text/plain": [
       "               Mean  Pred_sari_Quarter  Pred_Sari_yearly\n",
       "Date                                                    \n",
       "2025-04-16  9082.50        9137.659134       9146.798782\n",
       "2025-04-17  9103.50        9146.038756       9074.468153\n",
       "2025-04-22  9293.25        9080.735378       9086.077238\n",
       "2025-04-23  9416.25        9301.989882       9307.541944\n",
       "2025-04-24  9410.25        9412.580762       9476.506169\n",
       "2025-04-25  9363.75        9457.453225       9507.858865\n",
       "2025-04-28  9365.25        9361.484783       9281.456571\n",
       "2025-04-29  9487.00        9399.123924       9436.042431\n",
       "2025-04-30  9203.50        9486.554196       9466.636060"
      ]
     },
     "execution_count": 190,
     "metadata": {},
     "output_type": "execute_result"
    }
   ],
   "source": [
    "test_data[['Mean','Pred_sari_Quarter','Pred_Sari_yearly']]"
   ]
  },
  {
   "cell_type": "code",
   "execution_count": 191,
   "id": "114252d5",
   "metadata": {},
   "outputs": [
    {
     "data": {
      "text/plain": [
       "<AxesSubplot:xlabel='Date'>"
      ]
     },
     "execution_count": 191,
     "metadata": {},
     "output_type": "execute_result"
    },
    {
     "data": {
      "image/png": "[encoded data removed]",
      "text/plain": [
       "<Figure size 1080x576 with 1 Axes>"
      ]
     },
     "metadata": {
      "needs_background": "light"
     },
     "output_type": "display_data"
    }
   ],
   "source": [
    "test_data[['Mean','Pred_sari_Quarter','Pred_Sari_yearly']].plot(figsize=(15,8))"
   ]
  },
  {
   "cell_type": "code",
   "execution_count": 192,
   "id": "8a91d20e",
   "metadata": {},
   "outputs": [],
   "source": [
    "\n",
    "# Example setup (assumes df and airline already exist with datetime index)\n",
    "last_date = df.index[-1]  # Should be 2025-04-30\n",
    "future_dates = pd.date_range(start=last_date + pd.Timedelta(days=1), end='2025-05-15', freq='D')\n",
    "\n",
    "# Create future dataframes with the same structure but empty values\n",
    "future_df = pd.DataFrame(index=future_dates, columns=df.columns)\n",
    "future_cop_price = pd.DataFrame(index=future_dates, columns=df.columns)\n"
   ]
  },
  {
   "cell_type": "code",
   "execution_count": 193,
   "id": "1c37602e",
   "metadata": {},
   "outputs": [
    {
     "data": {
      "text/html": [
       "<div>\n",
       "<style scoped>\n",
       "    .dataframe tbody tr th:only-of-type {\n",
       "        vertical-align: middle;\n",
       "    }\n",
       "\n",
       "    .dataframe tbody tr th {\n",
       "        vertical-align: top;\n",
       "    }\n",
       "\n",
       "    .dataframe thead th {\n",
       "        text-align: right;\n",
       "    }\n",
       "</style>\n",
       "<table border=\"1\" class=\"dataframe\">\n",
       "  <thead>\n",
       "    <tr style=\"text-align: right;\">\n",
       "      <th></th>\n",
       "      <th>BUYER</th>\n",
       "      <th>SELLER</th>\n",
       "      <th>Mean</th>\n",
       "      <th>First_diff</th>\n",
       "    </tr>\n",
       "  </thead>\n",
       "  <tbody>\n",
       "    <tr>\n",
       "      <th>2025-05-01</th>\n",
       "      <td>NaN</td>\n",
       "      <td>NaN</td>\n",
       "      <td>NaN</td>\n",
       "      <td>NaN</td>\n",
       "    </tr>\n",
       "    <tr>\n",
       "      <th>2025-05-02</th>\n",
       "      <td>NaN</td>\n",
       "      <td>NaN</td>\n",
       "      <td>NaN</td>\n",
       "      <td>NaN</td>\n",
       "    </tr>\n",
       "    <tr>\n",
       "      <th>2025-05-03</th>\n",
       "      <td>NaN</td>\n",
       "      <td>NaN</td>\n",
       "      <td>NaN</td>\n",
       "      <td>NaN</td>\n",
       "    </tr>\n",
       "    <tr>\n",
       "      <th>2025-05-04</th>\n",
       "      <td>NaN</td>\n",
       "      <td>NaN</td>\n",
       "      <td>NaN</td>\n",
       "      <td>NaN</td>\n",
       "    </tr>\n",
       "    <tr>\n",
       "      <th>2025-05-05</th>\n",
       "      <td>NaN</td>\n",
       "      <td>NaN</td>\n",
       "      <td>NaN</td>\n",
       "      <td>NaN</td>\n",
       "    </tr>\n",
       "    <tr>\n",
       "      <th>2025-05-06</th>\n",
       "      <td>NaN</td>\n",
       "      <td>NaN</td>\n",
       "      <td>NaN</td>\n",
       "      <td>NaN</td>\n",
       "    </tr>\n",
       "    <tr>\n",
       "      <th>2025-05-07</th>\n",
       "      <td>NaN</td>\n",
       "      <td>NaN</td>\n",
       "      <td>NaN</td>\n",
       "      <td>NaN</td>\n",
       "    </tr>\n",
       "    <tr>\n",
       "      <th>2025-05-08</th>\n",
       "      <td>NaN</td>\n",
       "      <td>NaN</td>\n",
       "      <td>NaN</td>\n",
       "      <td>NaN</td>\n",
       "    </tr>\n",
       "    <tr>\n",
       "      <th>2025-05-09</th>\n",
       "      <td>NaN</td>\n",
       "      <td>NaN</td>\n",
       "      <td>NaN</td>\n",
       "      <td>NaN</td>\n",
       "    </tr>\n",
       "    <tr>\n",
       "      <th>2025-05-10</th>\n",
       "      <td>NaN</td>\n",
       "      <td>NaN</td>\n",
       "      <td>NaN</td>\n",
       "      <td>NaN</td>\n",
       "    </tr>\n",
       "    <tr>\n",
       "      <th>2025-05-11</th>\n",
       "      <td>NaN</td>\n",
       "      <td>NaN</td>\n",
       "      <td>NaN</td>\n",
       "      <td>NaN</td>\n",
       "    </tr>\n",
       "    <tr>\n",
       "      <th>2025-05-12</th>\n",
       "      <td>NaN</td>\n",
       "      <td>NaN</td>\n",
       "      <td>NaN</td>\n",
       "      <td>NaN</td>\n",
       "    </tr>\n",
       "    <tr>\n",
       "      <th>2025-05-13</th>\n",
       "      <td>NaN</td>\n",
       "      <td>NaN</td>\n",
       "      <td>NaN</td>\n",
       "      <td>NaN</td>\n",
       "    </tr>\n",
       "    <tr>\n",
       "      <th>2025-05-14</th>\n",
       "      <td>NaN</td>\n",
       "      <td>NaN</td>\n",
       "      <td>NaN</td>\n",
       "      <td>NaN</td>\n",
       "    </tr>\n",
       "    <tr>\n",
       "      <th>2025-05-15</th>\n",
       "      <td>NaN</td>\n",
       "      <td>NaN</td>\n",
       "      <td>NaN</td>\n",
       "      <td>NaN</td>\n",
       "    </tr>\n",
       "  </tbody>\n",
       "</table>\n",
       "</div>"
      ],
      "text/plain": [
       "           BUYER SELLER Mean First_diff\n",
       "2025-05-01   NaN    NaN  NaN        NaN\n",
       "2025-05-02   NaN    NaN  NaN        NaN\n",
       "2025-05-03   NaN    NaN  NaN        NaN\n",
       "2025-05-04   NaN    NaN  NaN        NaN\n",
       "2025-05-05   NaN    NaN  NaN        NaN\n",
       "2025-05-06   NaN    NaN  NaN        NaN\n",
       "2025-05-07   NaN    NaN  NaN        NaN\n",
       "2025-05-08   NaN    NaN  NaN        NaN\n",
       "2025-05-09   NaN    NaN  NaN        NaN\n",
       "2025-05-10   NaN    NaN  NaN        NaN\n",
       "2025-05-11   NaN    NaN  NaN        NaN\n",
       "2025-05-12   NaN    NaN  NaN        NaN\n",
       "2025-05-13   NaN    NaN  NaN        NaN\n",
       "2025-05-14   NaN    NaN  NaN        NaN\n",
       "2025-05-15   NaN    NaN  NaN        NaN"
      ]
     },
     "execution_count": 193,
     "metadata": {},
     "output_type": "execute_result"
    }
   ],
   "source": [
    "future_cop_price"
   ]
  },
  {
   "cell_type": "code",
   "execution_count": 194,
   "id": "d27aec8e",
   "metadata": {},
   "outputs": [
    {
     "data": {
      "text/html": [
       "<div>\n",
       "<style scoped>\n",
       "    .dataframe tbody tr th:only-of-type {\n",
       "        vertical-align: middle;\n",
       "    }\n",
       "\n",
       "    .dataframe tbody tr th {\n",
       "        vertical-align: top;\n",
       "    }\n",
       "\n",
       "    .dataframe thead th {\n",
       "        text-align: right;\n",
       "    }\n",
       "</style>\n",
       "<table border=\"1\" class=\"dataframe\">\n",
       "  <thead>\n",
       "    <tr style=\"text-align: right;\">\n",
       "      <th></th>\n",
       "      <th>BUYER</th>\n",
       "      <th>SELLER</th>\n",
       "      <th>Mean</th>\n",
       "      <th>First_diff</th>\n",
       "    </tr>\n",
       "    <tr>\n",
       "      <th>Date</th>\n",
       "      <th></th>\n",
       "      <th></th>\n",
       "      <th></th>\n",
       "      <th></th>\n",
       "    </tr>\n",
       "  </thead>\n",
       "  <tbody>\n",
       "    <tr>\n",
       "      <th>2025-04-24</th>\n",
       "      <td>9410.0</td>\n",
       "      <td>9410.5</td>\n",
       "      <td>9410.25</td>\n",
       "      <td>-6.00</td>\n",
       "    </tr>\n",
       "    <tr>\n",
       "      <th>2025-04-25</th>\n",
       "      <td>9363.5</td>\n",
       "      <td>9364.0</td>\n",
       "      <td>9363.75</td>\n",
       "      <td>-46.50</td>\n",
       "    </tr>\n",
       "    <tr>\n",
       "      <th>2025-04-28</th>\n",
       "      <td>9365.0</td>\n",
       "      <td>9365.5</td>\n",
       "      <td>9365.25</td>\n",
       "      <td>1.50</td>\n",
       "    </tr>\n",
       "    <tr>\n",
       "      <th>2025-04-29</th>\n",
       "      <td>9486.5</td>\n",
       "      <td>9487.5</td>\n",
       "      <td>9487.00</td>\n",
       "      <td>121.75</td>\n",
       "    </tr>\n",
       "    <tr>\n",
       "      <th>2025-04-30</th>\n",
       "      <td>9203.0</td>\n",
       "      <td>9204.0</td>\n",
       "      <td>9203.50</td>\n",
       "      <td>-283.50</td>\n",
       "    </tr>\n",
       "  </tbody>\n",
       "</table>\n",
       "</div>"
      ],
      "text/plain": [
       "             BUYER  SELLER     Mean  First_diff\n",
       "Date                                           \n",
       "2025-04-24  9410.0  9410.5  9410.25       -6.00\n",
       "2025-04-25  9363.5  9364.0  9363.75      -46.50\n",
       "2025-04-28  9365.0  9365.5  9365.25        1.50\n",
       "2025-04-29  9486.5  9487.5  9487.00      121.75\n",
       "2025-04-30  9203.0  9204.0  9203.50     -283.50"
      ]
     },
     "execution_count": 194,
     "metadata": {},
     "output_type": "execute_result"
    }
   ],
   "source": [
    "df.tail()"
   ]
  },
  {
   "cell_type": "code",
   "execution_count": 195,
   "id": "2166bef6",
   "metadata": {},
   "outputs": [],
   "source": [
    "future_cop_price=pd.concat([df,future_cop_price])"
   ]
  },
  {
   "cell_type": "code",
   "execution_count": 196,
   "id": "81b40623",
   "metadata": {},
   "outputs": [
    {
     "data": {
      "text/html": [
       "<div>\n",
       "<style scoped>\n",
       "    .dataframe tbody tr th:only-of-type {\n",
       "        vertical-align: middle;\n",
       "    }\n",
       "\n",
       "    .dataframe tbody tr th {\n",
       "        vertical-align: top;\n",
       "    }\n",
       "\n",
       "    .dataframe thead th {\n",
       "        text-align: right;\n",
       "    }\n",
       "</style>\n",
       "<table border=\"1\" class=\"dataframe\">\n",
       "  <thead>\n",
       "    <tr style=\"text-align: right;\">\n",
       "      <th></th>\n",
       "      <th>BUYER</th>\n",
       "      <th>SELLER</th>\n",
       "      <th>Mean</th>\n",
       "      <th>First_diff</th>\n",
       "    </tr>\n",
       "  </thead>\n",
       "  <tbody>\n",
       "    <tr>\n",
       "      <th>2025-01-02</th>\n",
       "      <td>8685.0</td>\n",
       "      <td>8685.5</td>\n",
       "      <td>8685.25</td>\n",
       "      <td>NaN</td>\n",
       "    </tr>\n",
       "    <tr>\n",
       "      <th>2025-01-03</th>\n",
       "      <td>8700.5</td>\n",
       "      <td>8701.0</td>\n",
       "      <td>8700.75</td>\n",
       "      <td>15.5</td>\n",
       "    </tr>\n",
       "    <tr>\n",
       "      <th>2025-01-06</th>\n",
       "      <td>8893.0</td>\n",
       "      <td>8893.5</td>\n",
       "      <td>8893.25</td>\n",
       "      <td>192.5</td>\n",
       "    </tr>\n",
       "    <tr>\n",
       "      <th>2025-01-07</th>\n",
       "      <td>8885.5</td>\n",
       "      <td>8886.0</td>\n",
       "      <td>8885.75</td>\n",
       "      <td>-7.5</td>\n",
       "    </tr>\n",
       "    <tr>\n",
       "      <th>2025-01-08</th>\n",
       "      <td>8846.5</td>\n",
       "      <td>8847.0</td>\n",
       "      <td>8846.75</td>\n",
       "      <td>-39.0</td>\n",
       "    </tr>\n",
       "    <tr>\n",
       "      <th>...</th>\n",
       "      <td>...</td>\n",
       "      <td>...</td>\n",
       "      <td>...</td>\n",
       "      <td>...</td>\n",
       "    </tr>\n",
       "    <tr>\n",
       "      <th>2025-05-11</th>\n",
       "      <td>NaN</td>\n",
       "      <td>NaN</td>\n",
       "      <td>NaN</td>\n",
       "      <td>NaN</td>\n",
       "    </tr>\n",
       "    <tr>\n",
       "      <th>2025-05-12</th>\n",
       "      <td>NaN</td>\n",
       "      <td>NaN</td>\n",
       "      <td>NaN</td>\n",
       "      <td>NaN</td>\n",
       "    </tr>\n",
       "    <tr>\n",
       "      <th>2025-05-13</th>\n",
       "      <td>NaN</td>\n",
       "      <td>NaN</td>\n",
       "      <td>NaN</td>\n",
       "      <td>NaN</td>\n",
       "    </tr>\n",
       "    <tr>\n",
       "      <th>2025-05-14</th>\n",
       "      <td>NaN</td>\n",
       "      <td>NaN</td>\n",
       "      <td>NaN</td>\n",
       "      <td>NaN</td>\n",
       "    </tr>\n",
       "    <tr>\n",
       "      <th>2025-05-15</th>\n",
       "      <td>NaN</td>\n",
       "      <td>NaN</td>\n",
       "      <td>NaN</td>\n",
       "      <td>NaN</td>\n",
       "    </tr>\n",
       "  </tbody>\n",
       "</table>\n",
       "<p>98 rows × 4 columns</p>\n",
       "</div>"
      ],
      "text/plain": [
       "             BUYER  SELLER     Mean First_diff\n",
       "2025-01-02  8685.0  8685.5  8685.25        NaN\n",
       "2025-01-03  8700.5  8701.0  8700.75       15.5\n",
       "2025-01-06  8893.0  8893.5  8893.25      192.5\n",
       "2025-01-07  8885.5  8886.0  8885.75       -7.5\n",
       "2025-01-08  8846.5  8847.0  8846.75      -39.0\n",
       "...            ...     ...      ...        ...\n",
       "2025-05-11     NaN     NaN      NaN        NaN\n",
       "2025-05-12     NaN     NaN      NaN        NaN\n",
       "2025-05-13     NaN     NaN      NaN        NaN\n",
       "2025-05-14     NaN     NaN      NaN        NaN\n",
       "2025-05-15     NaN     NaN      NaN        NaN\n",
       "\n",
       "[98 rows x 4 columns]"
      ]
     },
     "execution_count": 196,
     "metadata": {},
     "output_type": "execute_result"
    }
   ],
   "source": [
    "future_cop_price"
   ]
  },
  {
   "cell_type": "code",
   "execution_count": 198,
   "id": "0654359b",
   "metadata": {},
   "outputs": [
    {
     "name": "stderr",
     "output_type": "stream",
     "text": [
      "C:\\ProgramData\\Anaconda3\\lib\\site-packages\\statsmodels\\tsa\\base\\tsa_model.py:834: ValueWarning: No supported index is available. Prediction results will be given with an integer index beginning at `start`.\n",
      "  return get_prediction_index(\n"
     ]
    }
   ],
   "source": [
    "forecast_result = mod_sari_fit.get_forecast(steps=15)\n",
    "future_cop_price.loc[future_dates, 'Forecast'] = forecast_result.predicted_mean.values"
   ]
  },
  {
   "cell_type": "code",
   "execution_count": 200,
   "id": "23a3e696",
   "metadata": {},
   "outputs": [
    {
     "data": {
      "text/plain": [
       "<AxesSubplot:>"
      ]
     },
     "execution_count": 200,
     "metadata": {},
     "output_type": "execute_result"
    },
    {
     "data": {
      "image/png": "[encoded data removed]",
      "text/plain": [
       "<Figure size 1080x576 with 1 Axes>"
      ]
     },
     "metadata": {
      "needs_background": "light"
     },
     "output_type": "display_data"
    }
   ],
   "source": [
    "future_cop_price[['Mean','Forecast']].plot(figsize=(15,8))"
   ]
  },
  {
   "cell_type": "code",
   "execution_count": 201,
   "id": "3dbb076d",
   "metadata": {},
   "outputs": [
    {
     "data": {
      "text/html": [
       "<div>\n",
       "<style scoped>\n",
       "    .dataframe tbody tr th:only-of-type {\n",
       "        vertical-align: middle;\n",
       "    }\n",
       "\n",
       "    .dataframe tbody tr th {\n",
       "        vertical-align: top;\n",
       "    }\n",
       "\n",
       "    .dataframe thead th {\n",
       "        text-align: right;\n",
       "    }\n",
       "</style>\n",
       "<table border=\"1\" class=\"dataframe\">\n",
       "  <thead>\n",
       "    <tr style=\"text-align: right;\">\n",
       "      <th></th>\n",
       "      <th>BUYER</th>\n",
       "      <th>SELLER</th>\n",
       "      <th>Mean</th>\n",
       "      <th>First_diff</th>\n",
       "      <th>Forecast</th>\n",
       "    </tr>\n",
       "  </thead>\n",
       "  <tbody>\n",
       "    <tr>\n",
       "      <th>2025-01-02</th>\n",
       "      <td>8685.0</td>\n",
       "      <td>8685.5</td>\n",
       "      <td>8685.25</td>\n",
       "      <td>NaN</td>\n",
       "      <td>NaN</td>\n",
       "    </tr>\n",
       "    <tr>\n",
       "      <th>2025-01-03</th>\n",
       "      <td>8700.5</td>\n",
       "      <td>8701.0</td>\n",
       "      <td>8700.75</td>\n",
       "      <td>15.5</td>\n",
       "      <td>NaN</td>\n",
       "    </tr>\n",
       "    <tr>\n",
       "      <th>2025-01-06</th>\n",
       "      <td>8893.0</td>\n",
       "      <td>8893.5</td>\n",
       "      <td>8893.25</td>\n",
       "      <td>192.5</td>\n",
       "      <td>NaN</td>\n",
       "    </tr>\n",
       "    <tr>\n",
       "      <th>2025-01-07</th>\n",
       "      <td>8885.5</td>\n",
       "      <td>8886.0</td>\n",
       "      <td>8885.75</td>\n",
       "      <td>-7.5</td>\n",
       "      <td>NaN</td>\n",
       "    </tr>\n",
       "    <tr>\n",
       "      <th>2025-01-08</th>\n",
       "      <td>8846.5</td>\n",
       "      <td>8847.0</td>\n",
       "      <td>8846.75</td>\n",
       "      <td>-39.0</td>\n",
       "      <td>NaN</td>\n",
       "    </tr>\n",
       "    <tr>\n",
       "      <th>...</th>\n",
       "      <td>...</td>\n",
       "      <td>...</td>\n",
       "      <td>...</td>\n",
       "      <td>...</td>\n",
       "      <td>...</td>\n",
       "    </tr>\n",
       "    <tr>\n",
       "      <th>2025-05-11</th>\n",
       "      <td>NaN</td>\n",
       "      <td>NaN</td>\n",
       "      <td>NaN</td>\n",
       "      <td>NaN</td>\n",
       "      <td>8948.417837</td>\n",
       "    </tr>\n",
       "    <tr>\n",
       "      <th>2025-05-12</th>\n",
       "      <td>NaN</td>\n",
       "      <td>NaN</td>\n",
       "      <td>NaN</td>\n",
       "      <td>NaN</td>\n",
       "      <td>9093.124577</td>\n",
       "    </tr>\n",
       "    <tr>\n",
       "      <th>2025-05-13</th>\n",
       "      <td>NaN</td>\n",
       "      <td>NaN</td>\n",
       "      <td>NaN</td>\n",
       "      <td>NaN</td>\n",
       "      <td>9124.888902</td>\n",
       "    </tr>\n",
       "    <tr>\n",
       "      <th>2025-05-14</th>\n",
       "      <td>NaN</td>\n",
       "      <td>NaN</td>\n",
       "      <td>NaN</td>\n",
       "      <td>NaN</td>\n",
       "      <td>9132.231438</td>\n",
       "    </tr>\n",
       "    <tr>\n",
       "      <th>2025-05-15</th>\n",
       "      <td>NaN</td>\n",
       "      <td>NaN</td>\n",
       "      <td>NaN</td>\n",
       "      <td>NaN</td>\n",
       "      <td>9143.646074</td>\n",
       "    </tr>\n",
       "  </tbody>\n",
       "</table>\n",
       "<p>98 rows × 5 columns</p>\n",
       "</div>"
      ],
      "text/plain": [
       "             BUYER  SELLER     Mean First_diff     Forecast\n",
       "2025-01-02  8685.0  8685.5  8685.25        NaN          NaN\n",
       "2025-01-03  8700.5  8701.0  8700.75       15.5          NaN\n",
       "2025-01-06  8893.0  8893.5  8893.25      192.5          NaN\n",
       "2025-01-07  8885.5  8886.0  8885.75       -7.5          NaN\n",
       "2025-01-08  8846.5  8847.0  8846.75      -39.0          NaN\n",
       "...            ...     ...      ...        ...          ...\n",
       "2025-05-11     NaN     NaN      NaN        NaN  8948.417837\n",
       "2025-05-12     NaN     NaN      NaN        NaN  9093.124577\n",
       "2025-05-13     NaN     NaN      NaN        NaN  9124.888902\n",
       "2025-05-14     NaN     NaN      NaN        NaN  9132.231438\n",
       "2025-05-15     NaN     NaN      NaN        NaN  9143.646074\n",
       "\n",
       "[98 rows x 5 columns]"
      ]
     },
     "execution_count": 201,
     "metadata": {},
     "output_type": "execute_result"
    }
   ],
   "source": [
    "future_cop_price"
   ]
  },
  {
   "cell_type": "code",
   "execution_count": 205,
   "id": "bf68bb9d",
   "metadata": {},
   "outputs": [
    {
     "data": {
      "text/plain": [
       "2025-01-02            NaN\n",
       "2025-01-03            NaN\n",
       "2025-01-06            NaN\n",
       "2025-01-07            NaN\n",
       "2025-01-08            NaN\n",
       "                 ...     \n",
       "2025-05-11    8948.417837\n",
       "2025-05-12    9093.124577\n",
       "2025-05-13    9124.888902\n",
       "2025-05-14    9132.231438\n",
       "2025-05-15    9143.646074\n",
       "Name: Forecast, Length: 98, dtype: float64"
      ]
     },
     "execution_count": 205,
     "metadata": {},
     "output_type": "execute_result"
    }
   ],
   "source": [
    "future_cop_price['Forecast']"
   ]
  },
  {
   "cell_type": "code",
   "execution_count": 207,
   "id": "adebe516",
   "metadata": {},
   "outputs": [
    {
     "name": "stderr",
     "output_type": "stream",
     "text": [
      "C:\\ProgramData\\Anaconda3\\lib\\site-packages\\statsmodels\\tsa\\base\\tsa_model.py:834: ValueWarning: No supported index is available. Prediction results will be given with an integer index beginning at `start`.\n",
      "  return get_prediction_index(\n"
     ]
    },
    {
     "data": {
      "text/plain": [
       "'\\nmean_ci means the upper and lower bounds\\n\\n'"
      ]
     },
     "execution_count": 207,
     "metadata": {},
     "output_type": "execute_result"
    },
    {
     "data": {
      "image/png": "[encoded data removed]",
      "text/plain": [
       "<Figure size 432x288 with 1 Axes>"
      ]
     },
     "metadata": {
      "needs_background": "light"
     },
     "output_type": "display_data"
    }
   ],
   "source": []
  },
  {
   "cell_type": "code",
   "execution_count": null,
   "id": "4d729c2f",
   "metadata": {},
   "outputs": [],
   "source": []
  }
 ],
 "metadata": {
  "kernelspec": {
   "display_name": "Python 3 (ipykernel)",
   "language": "python",
   "name": "python3"
  },
  "language_info": {
   "codemirror_mode": {
    "name": "ipython",
    "version": 3
   },
   "file_extension": ".py",
   "mimetype": "text/x-python",
   "name": "python",
   "nbconvert_exporter": "python",
   "pygments_lexer": "ipython3",
   "version": "3.9.12"
  }
 },
 "nbformat": 4,
 "nbformat_minor": 5
}
